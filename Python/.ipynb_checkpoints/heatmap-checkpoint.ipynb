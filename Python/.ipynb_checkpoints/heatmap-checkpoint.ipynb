{
 "cells": [
  {
   "cell_type": "markdown",
   "id": "64030a05-f332-477a-8b4a-d4c2cf869045",
   "metadata": {},
   "source": [
    "## Heatmap with Python\n",
    "\n",
    "This heatmap is using the data of my GitHub profile to show my contribution on 2022.\n"
   ]
  },
  {
   "cell_type": "markdown",
   "id": "76bb294c-1864-44d1-9767-14d5f105c593",
   "metadata": {},
   "source": [
    "I create my own dataset manually from my GitHub data."
   ]
  },
  {
   "cell_type": "code",
   "execution_count": null,
   "id": "41e8fae5-433f-4174-9c58-e50f0f23682e",
   "metadata": {},
   "outputs": [],
   "source": [
    "import pandas as pd\n",
    "import numpy as np\n",
    "import datetime as dt\n",
    "from datetime import datetime\n",
    "\n",
    "data = pd.read_csv('train.csv', parse_dates=['date_time'])\n",
    "data.head()"
   ]
  },
  {
   "cell_type": "code",
   "execution_count": null,
   "id": "736a1d58-3906-4b6e-b697-d8c873f122f7",
   "metadata": {},
   "outputs": [],
   "source": [
    "import seaborn as sns\n",
    "import matplotlib.pyplot as plt\n",
    "import datetime as dt\n",
    "from datetime import datetime\n",
    "\n",
    "data['year'] = data.date_time.dt.year\n",
    "data['month'] = data.date_time.dt.month\n",
    "data['Weekday'] = data.date_time.dt.day_name()"
   ]
  },
  {
   "cell_type": "code",
   "execution_count": null,
   "id": "62ab6d3d-947b-484f-b960-1273043bbc3d",
   "metadata": {},
   "outputs": [],
   "source": [
    "data_2010 = data[data['year'] == 2010]\n",
    "train_2010 = data_2010[['month', 'Weekday', 'deg_C']]\n",
    "pivoted_data = pd.pivot_table(train_2010, values='deg_C', index=['Weekday'], columns=['month'], aggfunc = np.mean)"
   ]
  },
  {
   "cell_type": "code",
   "execution_count": null,
   "id": "e093324c-da45-4779-b126-c120dcf58390",
   "metadata": {},
   "outputs": [],
   "source": [
    "plt.figure(figsize = (16,6))\n",
    "sns.heatmap(pivoted_data, linewidth = 5, cmap='YlGn', linecolor='white', square = True)"
   ]
  },
  {
   "cell_type": "code",
   "execution_count": null,
   "id": "63f6efb7-5d42-40a2-87ab-3f81b4097a37",
   "metadata": {},
   "outputs": [],
   "source": [
    "#pip install calmap\n",
    "import calmap"
   ]
  },
  {
   "cell_type": "code",
   "execution_count": null,
   "id": "b990855c-1ae0-4b18-89d0-974e3bc903f6",
   "metadata": {},
   "outputs": [],
   "source": [
    "data = data.set_index('date_time')\n",
    "plt.figure(figsize=(20,10))\n",
    "calmap.yearplot(data['deg_C'], cmap = 'YlGn', fillcolor= 'lightgrey', daylabels = 'MTWTFSS', dayticks=[0, 2, 4, 6], linewidth = 2)"
   ]
  },
  {
   "cell_type": "code",
   "execution_count": 65,
   "id": "e070971d-477f-4703-8723-4c09daf74459",
   "metadata": {},
   "outputs": [],
   "source": [
    "import pandas as pd\n",
    "import numpy as np\n",
    "import datetime as dt\n",
    "from datetime import datetime\n",
    "\n",
    "data = pd.read_csv('github.csv', parse_dates=['date_time'])\n",
    "data.head()"
   ]
  },
  {
   "cell_type": "code",
   "execution_count": 66,
   "id": "155d2e30-d9af-49dc-afca-974280285aa1",
   "metadata": {},
   "outputs": [],
   "source": [
    "import seaborn as sns\n",
    "import matplotlib.pyplot as plt\n",
    "import datetime as dt\n",
    "from datetime import datetime\n",
    "\n",
    "data['year'] = data.date_time.dt.year\n",
    "data['month'] = data.date_time.dt.month\n",
    "data['Weekday'] = data.date_time.dt.day_name()"
   ]
  },
  {
   "cell_type": "code",
   "execution_count": 67,
   "id": "fca6742a-1aa3-4b77-bb8b-404150cf1340",
   "metadata": {},
   "outputs": [],
   "source": [
    "data_2022 = data[data['year'] == 2022]\n",
    "github_2022 = data_2022[['month', 'Weekday', 'contribution']]\n",
    "pivoted_data = pd.pivot_table(github_2022, values='contribution', index=['Weekday'], columns=['month'], aggfunc = np.mean)"
   ]
  },
  {
   "cell_type": "code",
   "execution_count": 68,
   "id": "7fa4da09-66b6-4ce8-b937-bc5054784a90",
   "metadata": {},
   "outputs": [
    {
     "data": {
      "text/plain": [
       "<AxesSubplot:xlabel='month', ylabel='Weekday'>"
      ]
     },
     "execution_count": 68,
     "metadata": {},
     "output_type": "execute_result"
    },
    {
     "data": {
      "image/png": "[encoded data removed]",
      "text/plain": [
       "<Figure size 1152x432 with 2 Axes>"
      ]
     },
     "metadata": {
      "needs_background": "light"
     },
     "output_type": "display_data"
    }
   ],
   "source": [
    "plt.figure(figsize = (16,6))\n",
    "sns.heatmap(pivoted_data, linewidth = 5, cmap='YlGn', linecolor='white', square = True)"
   ]
  },
  {
   "cell_type": "code",
   "execution_count": 69,
   "id": "0ba07cc6-fd79-4971-aefd-cbd876f31c0c",
   "metadata": {},
   "outputs": [
    {
     "data": {
      "text/plain": [
       "<AxesSubplot:>"
      ]
     },
     "execution_count": 69,
     "metadata": {},
     "output_type": "execute_result"
    },
    {
     "data": {
      "image/png": "[encoded data removed]",
      "text/plain": [
       "<Figure size 1440x720 with 1 Axes>"
      ]
     },
     "metadata": {
      "needs_background": "light"
     },
     "output_type": "display_data"
    }
   ],
   "source": [
    "#pip install calmap\n",
    "import calmap\n",
    "\n",
    "data = data.set_index('date_time')\n",
    "plt.figure(figsize=(20,10))\n",
    "calmap.yearplot(data['contribution'], cmap = 'YlGn', fillcolor= 'lightgrey', daylabels = 'MTWTFSS', dayticks=[0, 2, 4, 6], linewidth = 2)"
   ]
  }
 ],
 "metadata": {
  "kernelspec": {
   "display_name": "Python 3 (ipykernel)",
   "language": "python",
   "name": "python3"
  },
  "language_info": {
   "codemirror_mode": {
    "name": "ipython",
    "version": 3
   },
   "file_extension": ".py",
   "mimetype": "text/x-python",
   "name": "python",
   "nbconvert_exporter": "python",
   "pygments_lexer": "ipython3",
   "version": "3.9.12"
  }
 },
 "nbformat": 4,
 "nbformat_minor": 5
}
