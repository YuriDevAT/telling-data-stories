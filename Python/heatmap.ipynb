{
 "cells": [
  {
   "cell_type": "markdown",
   "id": "64030a05-f332-477a-8b4a-d4c2cf869045",
   "metadata": {},
   "source": [
    "## Heatmap with Python\n",
    "\n",
    "This heatmap is using the data of my GitHub profile to show my contribution on 2022.\n"
   ]
  },
  {
   "cell_type": "markdown",
   "id": "76bb294c-1864-44d1-9767-14d5f105c593",
   "metadata": {},
   "source": [
    "I create my own dataset manually from my GitHub data."
   ]
  },
  {
   "cell_type": "code",
   "execution_count": 1,
   "id": "e070971d-477f-4703-8723-4c09daf74459",
   "metadata": {},
   "outputs": [
    {
     "data": {
      "text/html": [
       "<div>\n",
       "<style scoped>\n",
       "    .dataframe tbody tr th:only-of-type {\n",
       "        vertical-align: middle;\n",
       "    }\n",
       "\n",
       "    .dataframe tbody tr th {\n",
       "        vertical-align: top;\n",
       "    }\n",
       "\n",
       "    .dataframe thead th {\n",
       "        text-align: right;\n",
       "    }\n",
       "</style>\n",
       "<table border=\"1\" class=\"dataframe\">\n",
       "  <thead>\n",
       "    <tr style=\"text-align: right;\">\n",
       "      <th></th>\n",
       "      <th>date_time</th>\n",
       "      <th>contribution</th>\n",
       "    </tr>\n",
       "  </thead>\n",
       "  <tbody>\n",
       "    <tr>\n",
       "      <th>0</th>\n",
       "      <td>2022-01-01 18:00:00</td>\n",
       "      <td>0</td>\n",
       "    </tr>\n",
       "    <tr>\n",
       "      <th>1</th>\n",
       "      <td>2022-01-02 18:00:00</td>\n",
       "      <td>0</td>\n",
       "    </tr>\n",
       "    <tr>\n",
       "      <th>2</th>\n",
       "      <td>2022-01-03 18:00:00</td>\n",
       "      <td>0</td>\n",
       "    </tr>\n",
       "    <tr>\n",
       "      <th>3</th>\n",
       "      <td>2022-01-04 18:00:00</td>\n",
       "      <td>0</td>\n",
       "    </tr>\n",
       "    <tr>\n",
       "      <th>4</th>\n",
       "      <td>2022-01-05 18:00:00</td>\n",
       "      <td>0</td>\n",
       "    </tr>\n",
       "  </tbody>\n",
       "</table>\n",
       "</div>"
      ],
      "text/plain": [
       "            date_time  contribution\n",
       "0 2022-01-01 18:00:00             0\n",
       "1 2022-01-02 18:00:00             0\n",
       "2 2022-01-03 18:00:00             0\n",
       "3 2022-01-04 18:00:00             0\n",
       "4 2022-01-05 18:00:00             0"
      ]
     },
     "execution_count": 1,
     "metadata": {},
     "output_type": "execute_result"
    }
   ],
   "source": [
    "import pandas as pd\n",
    "import numpy as np\n",
    "import datetime as dt\n",
    "from datetime import datetime\n",
    "\n",
    "data = pd.read_csv('github.csv', parse_dates=['date_time'])\n",
    "data.head()"
   ]
  },
  {
   "cell_type": "code",
   "execution_count": 2,
   "id": "155d2e30-d9af-49dc-afca-974280285aa1",
   "metadata": {},
   "outputs": [],
   "source": [
    "import seaborn as sns\n",
    "import matplotlib.pyplot as plt\n",
    "import datetime as dt\n",
    "from datetime import datetime\n",
    "\n",
    "data['year'] = data.date_time.dt.year\n",
    "data['month'] = data.date_time.dt.month\n",
    "data['Weekday'] = data.date_time.dt.day_name()"
   ]
  },
  {
   "cell_type": "code",
   "execution_count": 3,
   "id": "fca6742a-1aa3-4b77-bb8b-404150cf1340",
   "metadata": {},
   "outputs": [],
   "source": [
    "data_2022 = data[data['year'] == 2022]\n",
    "github_2022 = data_2022[['month', 'Weekday', 'contribution']]\n",
    "pivoted_data = pd.pivot_table(github_2022, values='contribution', index=['Weekday'], columns=['month'], aggfunc = np.mean)"
   ]
  },
  {
   "cell_type": "code",
   "execution_count": 4,
   "id": "7fa4da09-66b6-4ce8-b937-bc5054784a90",
   "metadata": {},
   "outputs": [
    {
     "data": {
      "text/plain": [
       "<AxesSubplot:xlabel='month', ylabel='Weekday'>"
      ]
     },
     "execution_count": 4,
     "metadata": {},
     "output_type": "execute_result"
    },
    {
     "data": {
      "image/png": "[encoded data removed]",
      "text/plain": [
       "<Figure size 1152x432 with 2 Axes>"
      ]
     },
     "metadata": {
      "needs_background": "light"
     },
     "output_type": "display_data"
    }
   ],
   "source": [
    "plt.figure(figsize = (16,6))\n",
    "sns.heatmap(pivoted_data, linewidth = 5, cmap='YlGn', linecolor='white', square = True)"
   ]
  },
  {
   "cell_type": "code",
   "execution_count": 5,
   "id": "0ba07cc6-fd79-4971-aefd-cbd876f31c0c",
   "metadata": {},
   "outputs": [
    {
     "data": {
      "text/plain": [
       "<AxesSubplot:title={'center':\"Julia's Github contribution in 2022\"}>"
      ]
     },
     "execution_count": 5,
     "metadata": {},
     "output_type": "execute_result"
    },
    {
     "data": {
      "image/png": "[encoded data removed]",
      "text/plain": [
       "<Figure size 1440x720 with 1 Axes>"
      ]
     },
     "metadata": {
      "needs_background": "light"
     },
     "output_type": "display_data"
    }
   ],
   "source": [
    "#pip install calmap\n",
    "import calmap\n",
    "\n",
    "data = data.set_index('date_time')\n",
    "fig = plt.figure(figsize=(20,10))\n",
    "plt.title(\"Julia's Github contribution in 2022\")\n",
    "plt.xlabel('xlabel')\n",
    "plt.ylabel('ylabel')\n",
    "calmap.yearplot(data['contribution'], cmap='YlGn', fillcolor='lightgrey', daylabels = 'MTWTFSS', dayticks=[0, 2, 4, 6], linewidth = 2)"
   ]
  },
  {
   "cell_type": "code",
   "execution_count": 6,
   "id": "4e80ef8b-1007-4265-9fb8-6b35f74845d2",
   "metadata": {},
   "outputs": [],
   "source": [
    "fig.savefig('heatmap.png')\n",
    "plt.show()"
   ]
  }
 ],
 "metadata": {
  "kernelspec": {
   "display_name": "Python 3 (ipykernel)",
   "language": "python",
   "name": "python3"
  },
  "language_info": {
   "codemirror_mode": {
    "name": "ipython",
    "version": 3
   },
   "file_extension": ".py",
   "mimetype": "text/x-python",
   "name": "python",
   "nbconvert_exporter": "python",
   "pygments_lexer": "ipython3",
   "version": "3.9.12"
  }
 },
 "nbformat": 4,
 "nbformat_minor": 5
}
