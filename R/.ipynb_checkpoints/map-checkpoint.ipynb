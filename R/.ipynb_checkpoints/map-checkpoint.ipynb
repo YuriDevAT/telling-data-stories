{
 "cells": [
  {
   "cell_type": "markdown",
   "id": "e51f82df-3004-4128-a44f-8f32eaee5074",
   "metadata": {},
   "source": [
    "## Geoplotting with R\n",
    "\n",
    "This map shows all the countries, cities and location I visited in the last several years using R."
   ]
  },
  {
   "cell_type": "code",
   "execution_count": null,
   "id": "0bca023e-88c4-4485-8b95-ed51bb75b9db",
   "metadata": {},
   "outputs": [],
   "source": [
    "#install.packages(\"maps\")\n",
    "\n",
    "# Load library\n",
    "library(maps)\n",
    "\n",
    "# Check all available geospatial objects:\n",
    "# help(package='maps')\n",
    "\n",
    "# Map of the world:\n",
    "map('world',col=\"grey\", fill=TRUE, bg=\"white\", lwd=0.05, mar=rep(0,4),border=0, ylim=c(-80,80) )\n",
    "map(\"world\")"
   ]
  },
  {
   "cell_type": "code",
   "execution_count": null,
   "id": "09bbe320-aeee-4838-a630-3d6a5586caf9",
   "metadata": {},
   "outputs": [],
   "source": [
    "# Load library\n",
    "library(mapdata)\n",
    "\n",
    "# Check all available geospatial objects:\n",
    "# help(package='mapdata')\n",
    "\n",
    "# Map of Japan:\n",
    "map('japan',col=\"black\", lwd=1, mar=rep(0,4) )"
   ]
  }
 ],
 "metadata": {
  "kernelspec": {
   "display_name": "R",
   "language": "R",
   "name": "ir"
  },
  "language_info": {
   "codemirror_mode": {
    "name": "ipython",
    "version": 3
   },
   "file_extension": ".py",
   "mimetype": "text/x-python",
   "name": "python",
   "nbconvert_exporter": "python",
   "pygments_lexer": "ipython3",
   "version": "3.9.12"
  }
 },
 "nbformat": 4,
 "nbformat_minor": 5
}
